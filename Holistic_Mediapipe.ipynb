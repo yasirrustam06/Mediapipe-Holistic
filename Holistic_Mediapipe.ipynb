{
 "cells": [
  {
   "cell_type": "markdown",
   "id": "10b3567a",
   "metadata": {},
   "source": [
    "# Holistic Mediapipe Projects"
   ]
  },
  {
   "cell_type": "markdown",
   "id": "77b17b86",
   "metadata": {},
   "source": [
    "IN this notebook I wrote thee Different ways to  Code   for  getting the  Holistic Feature"
   ]
  },
  {
   "cell_type": "markdown",
   "id": "9b4b3a07",
   "metadata": {},
   "source": [
    "You can run each code you wil get same results but there will be minor change in output after running each code "
   ]
  },
  {
   "cell_type": "markdown",
   "id": "130fb7b5",
   "metadata": {},
   "source": [
    "This work in realtime You can give the Video to it or can use your laptop webcam"
   ]
  },
  {
   "cell_type": "markdown",
   "id": "d78d94ce",
   "metadata": {},
   "source": [
    "# `First Code `"
   ]
  },
  {
   "cell_type": "code",
   "execution_count": null,
   "id": "7657468d",
   "metadata": {},
   "outputs": [],
   "source": [
    "import cv2\n",
    "import mediapipe as mp\n",
    "import time\n",
    "mpPose=mp.solutions.pose\n",
    "Pose=mpPose.Pose()\n",
    "mpDraw=mp.solutions.drawing_utils\n",
    "\n",
    "mpHands=mp.solutions.hands\n",
    "Hands=mpHands.Hands()\n",
    "\n",
    "mpMesh=mp.solutions.face_mesh\n",
    "Mesh=mpMesh.FaceMesh()\n",
    "\n",
    "\n",
    "mpDetection=mp.solutions.face_detection\n",
    "Detections=mpDetection.FaceDetection()\n",
    "\n",
    "\n",
    "cTime=0\n",
    "pTime=0\n",
    "cap=cv2.VideoCapture(0)\n",
    "\n",
    "\n",
    "\n",
    "while True:\n",
    "    ret,img=cap.read()\n",
    "    imgRGB=cv2.cvtColor(img,cv2.COLOR_BGR2RGB)\n",
    "    results_pose=Pose.process(imgRGB)\n",
    "    results_hands=Hands.process(imgRGB)\n",
    "    results_mesh=Mesh.process(imgRGB)\n",
    "    results_Detection=Detections.process(imgRGB)\n",
    "    if results_pose.pose_landmarks:\n",
    "        mpDraw.draw_landmarks(img, results_pose.pose_landmarks)\n",
    "        if results_hands.multi_hand_landmarks:\n",
    "            for hlms in  results_hands.multi_hand_landmarks:\n",
    "                mpDraw.draw_landmarks(img,hlms,mpHands.HAND_CONNECTIONS)\n",
    "\n",
    "                if results_mesh.multi_face_landmarks:\n",
    "                    for flms in results_mesh.multi_face_landmarks:\n",
    "                        mpDraw.draw_landmarks(img,flms,mpMesh.FACEMESH_LIPS)\n",
    "\n",
    "\n",
    "                        if results_Detection.detections:\n",
    "                            for detection in results_Detection.detections:\n",
    "                                mpDraw.draw_detection(img,detection)\n",
    "\n",
    "\n",
    "\n",
    "\n",
    "\n",
    "    cTime=time.time()\n",
    "    fps=1/(cTime-pTime)\n",
    "    pTime=cTime\n",
    "\n",
    "    cv2.putText(img,str(int(fps)),(70,50),cv2.FONT_HERSHEY_SIMPLEX,3,(0,255,0),3)\n",
    "\n",
    "    cv2.imshow(\"Image\",img)\n",
    "    cv2.waitKey(1)\n",
    "\n"
   ]
  },
  {
   "cell_type": "markdown",
   "id": "44c20842",
   "metadata": {},
   "source": [
    "# Second Code "
   ]
  },
  {
   "cell_type": "code",
   "execution_count": null,
   "id": "802137c0",
   "metadata": {},
   "outputs": [],
   "source": [
    "import cv2\n",
    "import mediapipe as mp\n",
    "import time\n",
    "cTime=0\n",
    "pTime=0\n",
    "\n",
    "\n",
    "cap=cv2.VideoCapture(\"5.mp4\")\n",
    "mpHolistic=mp.solutions.holistic\n",
    "Holstk=mpHolistic.Holistic()\n",
    "mpDraw=mp.solutions.drawing_utils\n",
    "\n",
    "\n",
    "while True:\n",
    "\n",
    "    ret,img=cap.read()\n",
    "    imgRGB=cv2.cvtColor(img,cv2.COLOR_BGR2RGB)\n",
    "    results=Holstk.process(imgRGB)\n",
    "    mpDraw.draw_landmarks(img,results.face_landmarks)\n",
    "    mpDraw.draw_landmarks(img,results.pose_landmarks,mpHolistic.POSE_CONNECTIONS)\n",
    "    mpDraw.draw_landmarks(img,results.left_hand_landmarks,mpHolistic.HAND_CONNECTIONS)\n",
    "    mpDraw.draw_landmarks(img, results.right_hand_landmarks, mpHolistic.HAND_CONNECTIONS)\n",
    "\n",
    "\n",
    "    cTime=time.time()\n",
    "    fps=1/(cTime-pTime)\n",
    "    pTime=cTime\n",
    "    cv2.putText(img,str(int(fps)),(70,50),cv2.FONT_HERSHEY_SIMPLEX,3,(0,255,0),3)\n",
    "\n",
    "    cv2.imshow(\"Image\",img)\n",
    "    cv2.waitKey(1)\n"
   ]
  },
  {
   "cell_type": "markdown",
   "id": "5066d441",
   "metadata": {},
   "source": [
    "# THird Code "
   ]
  },
  {
   "cell_type": "code",
   "execution_count": null,
   "id": "8b1f8ecb",
   "metadata": {},
   "outputs": [],
   "source": []
  },
  {
   "cell_type": "code",
   "execution_count": 1,
   "id": "04384f0c",
   "metadata": {},
   "outputs": [],
   "source": [
    "import mediapipe as mp\n",
    "import cv2"
   ]
  },
  {
   "cell_type": "code",
   "execution_count": 2,
   "id": "d85ea383",
   "metadata": {},
   "outputs": [],
   "source": [
    "mpHolistic = mp.solutions.holistic\n",
    "mpDraw = mp.solutions.drawing_utils\n",
    "mp_drawing_styles = mp.solutions.drawing_styles\n",
    "\n",
    "HolisTic = mpHolistic.Holistic( min_detection_confidence=0.5,\n",
    "                                min_tracking_confidence=0.5)"
   ]
  },
  {
   "cell_type": "code",
   "execution_count": null,
   "id": "83891685",
   "metadata": {},
   "outputs": [],
   "source": [
    "cap = cv2.VideoCapture(\"5.mp4\")\n",
    "while True:\n",
    "    ret,img = cap.read()\n",
    "    rgb_image = cv2.cvtColor(img,cv2.COLOR_BGR2RGB)\n",
    "    results = HolisTic.process(rgb_image)\n",
    "    \n",
    "    # For Drawing Face Mesh \n",
    "    \n",
    "    mpDraw.draw_landmarks(\n",
    "        img,\n",
    "        results.face_landmarks,\n",
    "        mpHolistic.FACEMESH_CONTOURS,\n",
    "        landmark_drawing_spec=None,\n",
    "        connection_drawing_spec=mp_drawing_styles\n",
    "        .get_default_face_mesh_contours_style())\n",
    "    \n",
    "    # For Drawing Pose Landmarks\n",
    "    mpDraw.draw_landmarks(\n",
    "        img,\n",
    "        results.pose_landmarks,\n",
    "        mpHolistic.POSE_CONNECTIONS,\n",
    "        landmark_drawing_spec=mp_drawing_styles\n",
    "        .get_default_pose_landmarks_style())\n",
    "    \n",
    "    \n",
    "    cv2.imshow(\"Image\",img)\n",
    "    cv2.waitKey(1)\n",
    "    \n",
    "    \n",
    "    "
   ]
  }
 ],
 "metadata": {
  "kernelspec": {
   "display_name": "Python 3 (ipykernel)",
   "language": "python",
   "name": "python3"
  },
  "language_info": {
   "codemirror_mode": {
    "name": "ipython",
    "version": 3
   },
   "file_extension": ".py",
   "mimetype": "text/x-python",
   "name": "python",
   "nbconvert_exporter": "python",
   "pygments_lexer": "ipython3",
   "version": "3.8.13"
  }
 },
 "nbformat": 4,
 "nbformat_minor": 5
}
